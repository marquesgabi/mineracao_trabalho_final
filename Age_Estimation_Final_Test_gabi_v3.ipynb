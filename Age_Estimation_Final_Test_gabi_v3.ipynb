{
  "nbformat": 4,
  "nbformat_minor": 0,
  "metadata": {
    "colab": {
      "provenance": [],
      "gpuType": "T4",
      "include_colab_link": true
    },
    "kernelspec": {
      "name": "python3",
      "display_name": "Python 3"
    },
    "language_info": {
      "name": "python"
    },
    "accelerator": "GPU"
  },
  "cells": [
    {
      "cell_type": "markdown",
      "metadata": {
        "id": "view-in-github",
        "colab_type": "text"
      },
      "source": [
        "<a href=\"https://colab.research.google.com/github/marquesgabi/mineracao_trabalho_final/blob/main/Age_Estimation_Final_Test_gabi_v3.ipynb\" target=\"_parent\"><img src=\"https://colab.research.google.com/assets/colab-badge.svg\" alt=\"Open In Colab\"/></a>"
      ]
    },
    {
      "cell_type": "markdown",
      "source": [
        "Idade"
      ],
      "metadata": {
        "id": "Cf6iVWQRuR1v"
      }
    },
    {
      "cell_type": "code",
      "source": [
        "import zipfile\n",
        "import cv2\n",
        "import numpy as np\n",
        "from matplotlib import pyplot as plt\n",
        "import pandas as pd\n",
        "import tensorflow as tf"
      ],
      "metadata": {
        "id": "P20sBuJqlPYL"
      },
      "execution_count": null,
      "outputs": []
    },
    {
      "cell_type": "code",
      "source": [
        "from google.colab import drive\n",
        "\n",
        "drive.mount('/content/drive')"
      ],
      "metadata": {
        "colab": {
          "base_uri": "https://localhost:8080/"
        },
        "id": "V3pt6D4x1ExD",
        "outputId": "4a30b713-d07a-4838-b990-475ceee8b320"
      },
      "execution_count": null,
      "outputs": [
        {
          "output_type": "stream",
          "name": "stdout",
          "text": [
            "Mounted at /content/drive\n"
          ]
        }
      ]
    },
    {
      "cell_type": "code",
      "source": [
        "# Replace with your path!\n",
        "#!unzip -q /content/drive/MyDrive/TRY_ME/UTKFace.zip -d data\n",
        "!unzip -q /content/drive/MyDrive/trabalho_final/UTKFace.zip -d data"
      ],
      "metadata": {
        "id": "UfJzbM48owsg"
      },
      "execution_count": null,
      "outputs": []
    },
    {
      "cell_type": "code",
      "source": [
        "# !mv data/UTKFace data/UTKFace"
      ],
      "metadata": {
        "id": "krFcQMFy02Rh"
      },
      "execution_count": null,
      "outputs": []
    },
    {
      "cell_type": "code",
      "source": [
        "# para treino\n",
        "!gdown 15dJJp8CJaaJ5JPoBgSlll_vCxy9vCdrV\n",
        "df = pd.read_csv('train-utkface.csv')\n",
        "df_train = df[['filename','age']]\n",
        "\n",
        "# para val\n",
        "!gdown 1l-DyeTfi5Q9tbZ9NgqGW0ABlr1X8kXqk\n",
        "df = pd.read_csv('valid-utkface.csv')\n",
        "df_val = df[['filename','age']]\n",
        "\n",
        "# para test\n",
        "!gdown 1c5W3OWc0fD8L3BAM9P5nNUlNGJHd8ZVv\n",
        "df = pd.read_csv('test-utkface.csv')\n",
        "df_test = df[['filename','age']]\n",
        "\n",
        "# PATH_IMGS = '/sample_data'\n",
        "PATH_IMGS = '/content/data'"
      ],
      "metadata": {
        "colab": {
          "base_uri": "https://localhost:8080/"
        },
        "id": "06qaj5ebpSU8",
        "outputId": "8039f73a-f450-4f2b-afc6-59beae304832"
      },
      "execution_count": null,
      "outputs": [
        {
          "output_type": "stream",
          "name": "stdout",
          "text": [
            "Downloading...\n",
            "From: https://drive.google.com/uc?id=15dJJp8CJaaJ5JPoBgSlll_vCxy9vCdrV\n",
            "To: /content/train-utkface.csv\n",
            "100% 740k/740k [00:00<00:00, 120MB/s]\n",
            "Downloading...\n",
            "From: https://drive.google.com/uc?id=1l-DyeTfi5Q9tbZ9NgqGW0ABlr1X8kXqk\n",
            "To: /content/valid-utkface.csv\n",
            "100% 185k/185k [00:00<00:00, 120MB/s]\n",
            "Downloading...\n",
            "From: https://drive.google.com/uc?id=1c5W3OWc0fD8L3BAM9P5nNUlNGJHd8ZVv\n",
            "To: /content/test-utkface.csv\n",
            "100% 231k/231k [00:00<00:00, 67.2MB/s]\n"
          ]
        }
      ]
    },
    {
      "cell_type": "code",
      "execution_count": null,
      "metadata": {
        "id": "y87hdqSruHyJ",
        "colab": {
          "base_uri": "https://localhost:8080/"
        },
        "outputId": "8efb4f2b-a833-4fef-f625-245fd60205a0"
      },
      "outputs": [
        {
          "output_type": "stream",
          "name": "stdout",
          "text": [
            "Found 15170 validated image filenames.\n",
            "Found 3793 validated image filenames.\n",
            "Found 4742 validated image filenames.\n"
          ]
        },
        {
          "output_type": "stream",
          "name": "stderr",
          "text": [
            "/usr/local/lib/python3.10/dist-packages/keras/src/preprocessing/image.py:1137: UserWarning: Found 2 invalid image filename(s) in x_col=\"filename\". These filename(s) will be ignored.\n",
            "  warnings.warn(\n",
            "/usr/local/lib/python3.10/dist-packages/keras/src/preprocessing/image.py:1137: UserWarning: Found 1 invalid image filename(s) in x_col=\"filename\". These filename(s) will be ignored.\n",
            "  warnings.warn(\n"
          ]
        },
        {
          "output_type": "stream",
          "name": "stdout",
          "text": [
            "Downloading data from https://storage.googleapis.com/tensorflow/keras-applications/resnet/resnet50v2_weights_tf_dim_ordering_tf_kernels_notop.h5\n",
            "94668760/94668760 [==============================] - 1s 0us/step\n",
            "Epoch 1/50\n",
            "949/949 [==============================] - 117s 84ms/step - loss: 9.9434 - val_loss: 10.3863\n",
            "Epoch 2/50\n",
            "949/949 [==============================] - 77s 81ms/step - loss: 8.0170 - val_loss: 7.9851\n",
            "Epoch 3/50\n",
            "949/949 [==============================] - 78s 82ms/step - loss: 7.2673 - val_loss: 8.9674\n",
            "Epoch 4/50\n",
            "949/949 [==============================] - 79s 83ms/step - loss: 6.7353 - val_loss: 7.4882\n",
            "Epoch 5/50\n",
            "949/949 [==============================] - 79s 84ms/step - loss: 6.2410 - val_loss: 6.7209\n",
            "Epoch 6/50\n",
            "949/949 [==============================] - 80s 84ms/step - loss: 5.8952 - val_loss: 6.4466\n",
            "Epoch 7/50\n",
            "949/949 [==============================] - 79s 83ms/step - loss: 5.5495 - val_loss: 6.1546\n",
            "Epoch 8/50\n",
            "949/949 [==============================] - 79s 84ms/step - loss: 5.3493 - val_loss: 6.0817\n",
            "Epoch 9/50\n",
            "949/949 [==============================] - 79s 83ms/step - loss: 5.0481 - val_loss: 6.0517\n",
            "Epoch 10/50\n",
            "949/949 [==============================] - 83s 88ms/step - loss: 4.7820 - val_loss: 6.0394\n",
            "Epoch 11/50\n",
            "949/949 [==============================] - 79s 84ms/step - loss: 4.5538 - val_loss: 6.3639\n",
            "Epoch 12/50\n",
            "949/949 [==============================] - 79s 83ms/step - loss: 4.3565 - val_loss: 6.1256\n",
            "Epoch 13/50\n",
            "949/949 [==============================] - 83s 88ms/step - loss: 4.0645 - val_loss: 6.0041\n",
            "Epoch 14/50\n",
            "949/949 [==============================] - 79s 84ms/step - loss: 3.8944 - val_loss: 6.0626\n",
            "Epoch 15/50\n",
            "949/949 [==============================] - 80s 84ms/step - loss: 3.7258 - val_loss: 6.1208\n",
            "Epoch 16/50\n",
            "949/949 [==============================] - 80s 84ms/step - loss: 3.4850 - val_loss: 5.7494\n",
            "Epoch 17/50\n",
            "949/949 [==============================] - 83s 88ms/step - loss: 3.3865 - val_loss: 5.7926\n",
            "Epoch 18/50\n",
            "949/949 [==============================] - 79s 83ms/step - loss: 3.1944 - val_loss: 5.6339\n",
            "Epoch 19/50\n",
            "949/949 [==============================] - 79s 83ms/step - loss: 3.0306 - val_loss: 6.0384\n",
            "Epoch 20/50\n",
            "949/949 [==============================] - 79s 83ms/step - loss: 2.8894 - val_loss: 5.7773\n",
            "Epoch 21/50\n",
            "949/949 [==============================] - 79s 83ms/step - loss: 2.8204 - val_loss: 5.6734\n",
            "Epoch 22/50\n",
            "949/949 [==============================] - 79s 84ms/step - loss: 2.6943 - val_loss: 5.6453\n",
            "Epoch 23/50\n",
            "949/949 [==============================] - 83s 88ms/step - loss: 2.5681 - val_loss: 5.6344\n",
            "Epoch 24/50\n",
            "949/949 [==============================] - 79s 83ms/step - loss: 2.5224 - val_loss: 5.7616\n",
            "Epoch 25/50\n",
            "949/949 [==============================] - 79s 84ms/step - loss: 2.4316 - val_loss: 5.6234\n",
            "Epoch 26/50\n",
            "949/949 [==============================] - 84s 88ms/step - loss: 2.3527 - val_loss: 5.6412\n",
            "Epoch 27/50\n",
            "949/949 [==============================] - 80s 84ms/step - loss: 2.2484 - val_loss: 5.6473\n",
            "Epoch 28/50\n",
            "949/949 [==============================] - 79s 84ms/step - loss: 2.2067 - val_loss: 5.6690\n",
            "Epoch 29/50\n",
            "949/949 [==============================] - 84s 88ms/step - loss: 2.1316 - val_loss: 5.7572\n",
            "Epoch 30/50\n",
            "949/949 [==============================] - 80s 84ms/step - loss: 2.0992 - val_loss: 5.5661\n",
            "Epoch 31/50\n",
            "949/949 [==============================] - 84s 88ms/step - loss: 2.0026 - val_loss: 5.6316\n",
            "Epoch 32/50\n",
            "949/949 [==============================] - 80s 84ms/step - loss: 1.9616 - val_loss: 5.7040\n",
            "Epoch 33/50\n",
            "949/949 [==============================] - 83s 88ms/step - loss: 1.9261 - val_loss: 5.5780\n",
            "Epoch 34/50\n",
            "949/949 [==============================] - 79s 83ms/step - loss: 1.8779 - val_loss: 5.5181\n",
            "Epoch 35/50\n",
            "949/949 [==============================] - 79s 83ms/step - loss: 1.8296 - val_loss: 5.6517\n",
            "Epoch 36/50\n",
            "949/949 [==============================] - 83s 87ms/step - loss: 1.8005 - val_loss: 5.9582\n",
            "Epoch 37/50\n",
            "949/949 [==============================] - 80s 84ms/step - loss: 1.7405 - val_loss: 5.5797\n",
            "Epoch 38/50\n",
            "949/949 [==============================] - 79s 83ms/step - loss: 1.7354 - val_loss: 5.5611\n",
            "Epoch 39/50\n",
            "949/949 [==============================] - 79s 83ms/step - loss: 1.6747 - val_loss: 5.6075\n",
            "Epoch 40/50\n",
            "949/949 [==============================] - 83s 88ms/step - loss: 1.6247 - val_loss: 5.5575\n",
            "Epoch 41/50\n",
            "949/949 [==============================] - 79s 83ms/step - loss: 1.6046 - val_loss: 5.5319\n",
            "Epoch 42/50\n",
            "949/949 [==============================] - 83s 88ms/step - loss: 1.5730 - val_loss: 5.6417\n",
            "Epoch 43/50\n",
            "949/949 [==============================] - 83s 87ms/step - loss: 1.5593 - val_loss: 5.6034\n",
            "Epoch 44/50\n",
            "949/949 [==============================] - 79s 83ms/step - loss: 1.5045 - val_loss: 5.5749\n",
            "Epoch 45/50\n",
            "949/949 [==============================] - 79s 83ms/step - loss: 1.4967 - val_loss: 5.5207\n",
            "Epoch 46/50\n",
            "949/949 [==============================] - 83s 87ms/step - loss: 1.4619 - val_loss: 5.4811\n",
            "Epoch 47/50\n",
            "949/949 [==============================] - 79s 83ms/step - loss: 1.4611 - val_loss: 5.5389\n",
            "Epoch 48/50\n",
            "949/949 [==============================] - 79s 84ms/step - loss: 1.4335 - val_loss: 5.5254\n",
            "Epoch 49/50\n",
            "949/949 [==============================] - 79s 83ms/step - loss: 1.3883 - val_loss: 5.5093\n",
            "Epoch 50/50\n",
            "949/949 [==============================] - 79s 84ms/step - loss: 1.3741 - val_loss: 5.5310\n"
          ]
        }
      ],
      "source": [
        "# PATH_IMGS contém o caminho para a pasta com as imagens\n",
        "# image_size e target_size indicam o tamanho que a imagem será carregada, no exemplo, 128x128x3\n",
        "# Para a regressão, o modelo tem class_mode igual a raw, já que usa os valores que estão na tabela\n",
        "# A coluna age no dataframe tem a idade no formato inteiro\n",
        "# Caso a memória estoure, vale a pena diminuir o batch_size\n",
        "\n",
        "generator = tf.keras.preprocessing.image.ImageDataGenerator(preprocessing_function=tf.keras.applications.resnet_v2.preprocess_input)\n",
        "\n",
        "train_generator = generator.flow_from_dataframe(\n",
        "        df_train, directory=PATH_IMGS, x_col='filename', y_col=['age'], image_size=(128, 128),\n",
        "        target_size=(128, 128), class_mode='raw', batch_size=16, shuffle=True)\n",
        "\n",
        "val_generator = generator.flow_from_dataframe(\n",
        "        df_val, directory=PATH_IMGS, x_col='filename', y_col=['age'], image_size=(128, 128),\n",
        "        target_size=(128, 128), class_mode='raw', batch_size=16, shuffle=False)\n",
        "\n",
        "test_generator = generator.flow_from_dataframe(\n",
        "        df_test, directory=PATH_IMGS, x_col='filename', y_col=['age'], image_size=(128, 128),\n",
        "        target_size=(128, 128), class_mode='raw', batch_size=16, shuffle=False)\n",
        "\n",
        "\n",
        "# Exemplo com ResNet50V2\n",
        "backbone = tf.keras.applications.resnet_v2.ResNet50V2(include_top=False, input_shape=(128,128,3), pooling='avg')\n",
        "\n",
        "for layer in backbone.layers:\n",
        "  layer.trainable = True\n",
        "\n",
        "model = tf.keras.Sequential([\n",
        "    backbone,\n",
        "    tf.keras.layers.Dense(1, activation=None)\n",
        "])\n",
        "\n",
        "model.compile(optimizer='adam', loss=['mae'])\n",
        "\n",
        "history = model.fit(train_generator, epochs=50, validation_data=val_generator, batch_size=10)"
      ]
    },
    {
      "cell_type": "code",
      "source": [
        "# Imprime a perda/MAE de treinamento e validação\n",
        "print('Train MAE (Loss): ', history.history['loss'][-1])\n",
        "print('Validation MAE (Loss): ', history.history['val_loss'][-1])"
      ],
      "metadata": {
        "colab": {
          "base_uri": "https://localhost:8080/"
        },
        "id": "KzRQTRqFw2GG",
        "outputId": "73385d60-bdd3-40d2-c575-e91eae5077f8"
      },
      "execution_count": null,
      "outputs": [
        {
          "output_type": "stream",
          "name": "stdout",
          "text": [
            "Train MAE (Loss):  1.3741323947906494\n",
            "Validation MAE (Loss):  5.531011581420898\n"
          ]
        }
      ]
    },
    {
      "cell_type": "code",
      "source": [
        "# Avaliar o conjunto de teste\n",
        "mae = model.evaluate(test_generator)\n",
        "print('Test MAE: ', mae)"
      ],
      "metadata": {
        "id": "zChD5yrWlSqU",
        "colab": {
          "base_uri": "https://localhost:8080/"
        },
        "outputId": "78d18bda-ddaf-4335-bb8b-ddd10d962c95"
      },
      "execution_count": null,
      "outputs": [
        {
          "output_type": "stream",
          "name": "stdout",
          "text": [
            "297/297 [==============================] - 7s 24ms/step - loss: 5.5661\n",
            "Test MAE:  5.566066265106201\n"
          ]
        }
      ]
    },
    {
      "cell_type": "code",
      "source": [
        "# Adicionar mse\n",
        "model.compile(optimizer='adam', loss='mae', metrics=['mse'])\n"
      ],
      "metadata": {
        "id": "nYOQhKm_XZrZ"
      },
      "execution_count": null,
      "outputs": []
    },
    {
      "cell_type": "code",
      "source": [
        "loss, mse = model.evaluate(test_generator)\n",
        "print('Test loss (MAE): ', loss)\n",
        "print('Test MSE: ', mse)\n"
      ],
      "metadata": {
        "colab": {
          "base_uri": "https://localhost:8080/"
        },
        "id": "3g4x0qNsXfdo",
        "outputId": "afa55f38-0854-47c2-b8bb-cb0a4a55e6bb"
      },
      "execution_count": null,
      "outputs": [
        {
          "output_type": "stream",
          "name": "stdout",
          "text": [
            "297/297 [==============================] - 9s 23ms/step - loss: 5.5661 - mse: 66.7429\n",
            "Test loss (MAE):  5.566066265106201\n",
            "Test MSE:  66.74292755126953\n"
          ]
        }
      ]
    },
    {
      "cell_type": "code",
      "source": [
        "# Plota o gráfico de perda\n",
        "plt.figure(figsize=(10, 6))\n",
        "plt.plot(history.history['loss'], label='Training Loss')\n",
        "plt.plot(history.history['val_loss'], label='Validation Loss')\n",
        "plt.title('Model Loss')\n",
        "plt.ylabel('Loss')\n",
        "plt.xlabel('Epochs')\n",
        "plt.legend()\n",
        "plt.show()\n"
      ],
      "metadata": {
        "id": "ttxIB8hPl6iC",
        "colab": {
          "base_uri": "https://localhost:8080/",
          "height": 564
        },
        "outputId": "f08b8072-3142-4373-d2d4-c169b108b8f4"
      },
      "execution_count": null,
      "outputs": [
        {
          "output_type": "display_data",
          "data": {
            "text/plain": [
              "<Figure size 1000x600 with 1 Axes>"
            ],
            "image/png": "[encoded data removed]"
          },
          "metadata": {}
        }
      ]
    },
    {
      "cell_type": "code",
      "source": [],
      "metadata": {
        "id": "3fOwxbP2pnfz"
      },
      "execution_count": null,
      "outputs": []
    }
  ]
}