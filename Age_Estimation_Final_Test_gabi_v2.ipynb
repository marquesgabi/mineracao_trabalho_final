{
  "nbformat": 4,
  "nbformat_minor": 0,
  "metadata": {
    "colab": {
      "provenance": [],
      "gpuType": "T4",
      "include_colab_link": true
    },
    "kernelspec": {
      "name": "python3",
      "display_name": "Python 3"
    },
    "language_info": {
      "name": "python"
    },
    "accelerator": "GPU"
  },
  "cells": [
    {
      "cell_type": "markdown",
      "metadata": {
        "id": "view-in-github",
        "colab_type": "text"
      },
      "source": [
        "<a href=\"https://colab.research.google.com/github/marquesgabi/mineracao_trabalho_final/blob/main/Age_Estimation_Final_Test_gabi_v2.ipynb\" target=\"_parent\"><img src=\"https://colab.research.google.com/assets/colab-badge.svg\" alt=\"Open In Colab\"/></a>"
      ]
    },
    {
      "cell_type": "markdown",
      "source": [
        "Idade"
      ],
      "metadata": {
        "id": "Cf6iVWQRuR1v"
      }
    },
    {
      "cell_type": "code",
      "source": [
        "import zipfile\n",
        "import cv2\n",
        "import numpy as np\n",
        "from matplotlib import pyplot as plt\n",
        "import pandas as pd\n",
        "import tensorflow as tf"
      ],
      "metadata": {
        "id": "P20sBuJqlPYL"
      },
      "execution_count": 1,
      "outputs": []
    },
    {
      "cell_type": "code",
      "source": [
        "from google.colab import drive\n",
        "\n",
        "drive.mount('/content/drive')"
      ],
      "metadata": {
        "colab": {
          "base_uri": "https://localhost:8080/"
        },
        "id": "V3pt6D4x1ExD",
        "outputId": "8f1d5903-b6be-453f-ce04-31b618dcefaf"
      },
      "execution_count": 2,
      "outputs": [
        {
          "output_type": "stream",
          "name": "stdout",
          "text": [
            "Mounted at /content/drive\n"
          ]
        }
      ]
    },
    {
      "cell_type": "code",
      "source": [
        "# Replace with your path!\n",
        "#!unzip -q /content/drive/MyDrive/TRY_ME/UTKFace.zip -d data\n",
        "!unzip -q /content/drive/MyDrive/trabalho_final/UTKFace.zip -d data"
      ],
      "metadata": {
        "id": "UfJzbM48owsg"
      },
      "execution_count": 3,
      "outputs": []
    },
    {
      "cell_type": "code",
      "source": [
        "# !mv data/UTKFace data/UTKFace"
      ],
      "metadata": {
        "id": "krFcQMFy02Rh"
      },
      "execution_count": 4,
      "outputs": []
    },
    {
      "cell_type": "code",
      "source": [
        "# para treino\n",
        "!gdown 15dJJp8CJaaJ5JPoBgSlll_vCxy9vCdrV\n",
        "df = pd.read_csv('train-utkface.csv')\n",
        "df_train = df[['filename','age']]\n",
        "\n",
        "# para val\n",
        "!gdown 1l-DyeTfi5Q9tbZ9NgqGW0ABlr1X8kXqk\n",
        "df = pd.read_csv('valid-utkface.csv')\n",
        "df_val = df[['filename','age']]\n",
        "\n",
        "# para test\n",
        "!gdown 1c5W3OWc0fD8L3BAM9P5nNUlNGJHd8ZVv\n",
        "df = pd.read_csv('test-utkface.csv')\n",
        "df_test = df[['filename','age']]\n",
        "\n",
        "# PATH_IMGS = '/sample_data'\n",
        "PATH_IMGS = '/content/data'"
      ],
      "metadata": {
        "colab": {
          "base_uri": "https://localhost:8080/"
        },
        "id": "06qaj5ebpSU8",
        "outputId": "b5ba8934-ad09-40f3-a9d9-3b5dc7c6fb03"
      },
      "execution_count": 5,
      "outputs": [
        {
          "output_type": "stream",
          "name": "stdout",
          "text": [
            "Downloading...\n",
            "From: https://drive.google.com/uc?id=15dJJp8CJaaJ5JPoBgSlll_vCxy9vCdrV\n",
            "To: /content/train-utkface.csv\n",
            "100% 740k/740k [00:00<00:00, 142MB/s]\n",
            "Downloading...\n",
            "From: https://drive.google.com/uc?id=1l-DyeTfi5Q9tbZ9NgqGW0ABlr1X8kXqk\n",
            "To: /content/valid-utkface.csv\n",
            "100% 185k/185k [00:00<00:00, 96.1MB/s]\n",
            "Downloading...\n",
            "From: https://drive.google.com/uc?id=1c5W3OWc0fD8L3BAM9P5nNUlNGJHd8ZVv\n",
            "To: /content/test-utkface.csv\n",
            "100% 231k/231k [00:00<00:00, 155MB/s]\n"
          ]
        }
      ]
    },
    {
      "cell_type": "code",
      "execution_count": 6,
      "metadata": {
        "id": "y87hdqSruHyJ",
        "colab": {
          "base_uri": "https://localhost:8080/"
        },
        "outputId": "fb522f21-f9f3-47a6-9613-07e6ed0ab074"
      },
      "outputs": [
        {
          "output_type": "stream",
          "name": "stdout",
          "text": [
            "Found 15170 validated image filenames.\n",
            "Found 3793 validated image filenames.\n",
            "Found 4742 validated image filenames.\n"
          ]
        },
        {
          "output_type": "stream",
          "name": "stderr",
          "text": [
            "/usr/local/lib/python3.10/dist-packages/keras/src/preprocessing/image.py:1137: UserWarning: Found 2 invalid image filename(s) in x_col=\"filename\". These filename(s) will be ignored.\n",
            "  warnings.warn(\n",
            "/usr/local/lib/python3.10/dist-packages/keras/src/preprocessing/image.py:1137: UserWarning: Found 1 invalid image filename(s) in x_col=\"filename\". These filename(s) will be ignored.\n",
            "  warnings.warn(\n"
          ]
        },
        {
          "output_type": "stream",
          "name": "stdout",
          "text": [
            "Downloading data from https://storage.googleapis.com/tensorflow/keras-applications/resnet/resnet50v2_weights_tf_dim_ordering_tf_kernels_notop.h5\n",
            "94668760/94668760 [==============================] - 0s 0us/step\n",
            "Epoch 1/10\n",
            "949/949 [==============================] - 134s 89ms/step - loss: 10.0518 - val_loss: 8.4584\n",
            "Epoch 2/10\n",
            "949/949 [==============================] - 81s 85ms/step - loss: 7.8477 - val_loss: 7.4972\n",
            "Epoch 3/10\n",
            "949/949 [==============================] - 80s 84ms/step - loss: 7.2504 - val_loss: 7.1496\n",
            "Epoch 4/10\n",
            "949/949 [==============================] - 80s 84ms/step - loss: 6.7435 - val_loss: 7.2995\n",
            "Epoch 5/10\n",
            "949/949 [==============================] - 80s 84ms/step - loss: 6.2399 - val_loss: 6.9064\n",
            "Epoch 6/10\n",
            "949/949 [==============================] - 79s 83ms/step - loss: 5.8492 - val_loss: 6.1928\n",
            "Epoch 7/10\n",
            "949/949 [==============================] - 79s 83ms/step - loss: 5.5580 - val_loss: 6.5079\n",
            "Epoch 8/10\n",
            "949/949 [==============================] - 79s 83ms/step - loss: 5.2874 - val_loss: 6.0207\n",
            "Epoch 9/10\n",
            "949/949 [==============================] - 83s 87ms/step - loss: 5.0627 - val_loss: 6.1730\n",
            "Epoch 10/10\n",
            "949/949 [==============================] - 78s 83ms/step - loss: 4.7356 - val_loss: 5.9466\n"
          ]
        }
      ],
      "source": [
        "# PATH_IMGS contém o caminho para a pasta com as imagens\n",
        "# image_size e target_size indicam o tamanho que a imagem será carregada, no exemplo, 128x128x3\n",
        "# Para a regressão, o modelo tem class_mode igual a raw, já que usa os valores que estão na tabela\n",
        "# A coluna age no dataframe tem a idade no formato inteiro\n",
        "# Caso a memória estoure, vale a pena diminuir o batch_size\n",
        "\n",
        "generator = tf.keras.preprocessing.image.ImageDataGenerator(preprocessing_function=tf.keras.applications.resnet_v2.preprocess_input)\n",
        "\n",
        "train_generator = generator.flow_from_dataframe(\n",
        "        df_train, directory=PATH_IMGS, x_col='filename', y_col=['age'], image_size=(128, 128),\n",
        "        target_size=(128, 128), class_mode='raw', batch_size=16, shuffle=True)\n",
        "\n",
        "val_generator = generator.flow_from_dataframe(\n",
        "        df_val, directory=PATH_IMGS, x_col='filename', y_col=['age'], image_size=(128, 128),\n",
        "        target_size=(128, 128), class_mode='raw', batch_size=16, shuffle=False)\n",
        "\n",
        "test_generator = generator.flow_from_dataframe(\n",
        "        df_test, directory=PATH_IMGS, x_col='filename', y_col=['age'], image_size=(128, 128),\n",
        "        target_size=(128, 128), class_mode='raw', batch_size=16, shuffle=False)\n",
        "\n",
        "\n",
        "# Exemplo com ResNet50V2\n",
        "backbone = tf.keras.applications.resnet_v2.ResNet50V2(include_top=False, input_shape=(128,128,3), pooling='avg')\n",
        "\n",
        "for layer in backbone.layers:\n",
        "  layer.trainable = True\n",
        "\n",
        "model = tf.keras.Sequential([\n",
        "    backbone,\n",
        "    tf.keras.layers.Dense(1, activation=None)\n",
        "])\n",
        "\n",
        "model.compile(optimizer='adam', loss=['mae'])\n",
        "\n",
        "history = model.fit(train_generator, epochs=10, validation_data=val_generator, batch_size=10)"
      ]
    },
    {
      "cell_type": "code",
      "source": [
        "# Imprime a perda/MAE de treinamento e validação\n",
        "print('Train MAE (Loss): ', history.history['loss'][-1]) # último valor na lista de perdas de treinamento\n",
        "print('Validation MAE (Loss): ', history.history['val_loss'][-1]) # último valor na lista de perdas de validação"
      ],
      "metadata": {
        "colab": {
          "base_uri": "https://localhost:8080/"
        },
        "id": "KzRQTRqFw2GG",
        "outputId": "177236fe-9981-414a-e6cd-37f8c27a26b9"
      },
      "execution_count": 15,
      "outputs": [
        {
          "output_type": "stream",
          "name": "stdout",
          "text": [
            "Train MAE (Loss):  4.735589027404785\n",
            "Validation MAE (Loss):  5.94655704498291\n"
          ]
        }
      ]
    },
    {
      "cell_type": "code",
      "source": [
        "# avaliar o conjunto de teste\n",
        "mae = model.evaluate(test_generator)\n",
        "print('Test MAE: ', mae)"
      ],
      "metadata": {
        "id": "zChD5yrWlSqU",
        "colab": {
          "base_uri": "https://localhost:8080/"
        },
        "outputId": "b92033ea-314e-4c80-f7d1-fc13fae2f47b"
      },
      "execution_count": 8,
      "outputs": [
        {
          "output_type": "stream",
          "name": "stdout",
          "text": [
            "297/297 [==============================] - 8s 27ms/step - loss: 5.9815\n",
            "Test MAE:  5.981453895568848\n"
          ]
        }
      ]
    },
    {
      "cell_type": "code",
      "source": [
        "#adicionar mse\n",
        "model.compile(optimizer='adam', loss='mae', metrics=['mse'])\n"
      ],
      "metadata": {
        "id": "nYOQhKm_XZrZ"
      },
      "execution_count": 9,
      "outputs": []
    },
    {
      "cell_type": "code",
      "source": [
        "loss, mse = model.evaluate(test_generator)\n",
        "print('Test loss (MAE): ', loss)\n",
        "print('Test MSE: ', mse)\n"
      ],
      "metadata": {
        "colab": {
          "base_uri": "https://localhost:8080/"
        },
        "id": "3g4x0qNsXfdo",
        "outputId": "9c18e396-1263-41d9-c854-bcd878eec956"
      },
      "execution_count": 10,
      "outputs": [
        {
          "output_type": "stream",
          "name": "stdout",
          "text": [
            "297/297 [==============================] - 9s 25ms/step - loss: 5.9815 - mse: 79.8937\n",
            "Test loss (MAE):  5.981453895568848\n",
            "Test MSE:  79.89373016357422\n"
          ]
        }
      ]
    },
    {
      "cell_type": "code",
      "source": [
        "# Plota o gráfico de perda\n",
        "plt.figure(figsize=(10, 6))\n",
        "plt.plot(history.history['loss'], label='Training Loss')\n",
        "plt.plot(history.history['val_loss'], label='Validation Loss')\n",
        "plt.title('Model Loss')\n",
        "plt.ylabel('Loss')\n",
        "plt.xlabel('Epochs')\n",
        "plt.legend()\n",
        "plt.show()\n"
      ],
      "metadata": {
        "id": "ttxIB8hPl6iC",
        "colab": {
          "base_uri": "https://localhost:8080/",
          "height": 564
        },
        "outputId": "4749216d-0e1e-4877-ed9a-d01560bfbba2"
      },
      "execution_count": 16,
      "outputs": [
        {
          "output_type": "display_data",
          "data": {
            "text/plain": [
              "<Figure size 1000x600 with 1 Axes>"
            ],
            "image/png": "[encoded data removed]"
          },
          "metadata": {}
        }
      ]
    },
    {
      "cell_type": "code",
      "source": [],
      "metadata": {
        "id": "3fOwxbP2pnfz"
      },
      "execution_count": null,
      "outputs": []
    }
  ]
}