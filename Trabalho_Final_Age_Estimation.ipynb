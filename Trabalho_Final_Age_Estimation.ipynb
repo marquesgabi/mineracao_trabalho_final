{
  "cells": [
    {
      "cell_type": "markdown",
      "metadata": {
        "id": "view-in-github",
        "colab_type": "text"
      },
      "source": [
        "<a href=\"https://colab.research.google.com/github/marquesgabi/mineracao_trabalho_final/blob/main/Trabalho_Final_Age_Estimation.ipynb\" target=\"_parent\"><img src=\"https://colab.research.google.com/assets/colab-badge.svg\" alt=\"Open In Colab\"/></a>"
      ]
    },
    {
      "cell_type": "markdown",
      "metadata": {
        "id": "a9y3NnkeABv6"
      },
      "source": [
        "## Imports"
      ]
    },
    {
      "cell_type": "code",
      "execution_count": 1,
      "metadata": {
        "colab": {
          "base_uri": "https://localhost:8080/"
        },
        "id": "oWJq-KmhBFQB",
        "outputId": "3e22202c-c5d8-4225-8f29-aa08d0ad3469"
      },
      "outputs": [
        {
          "output_type": "stream",
          "name": "stdout",
          "text": [
            "Requirement already satisfied: imbalanced-learn in /usr/local/lib/python3.10/dist-packages (0.10.1)\n",
            "Collecting imbalanced-learn\n",
            "  Downloading imbalanced_learn-0.11.0-py3-none-any.whl (235 kB)\n",
            "\u001b[2K     \u001b[90m━━━━━━━━━━━━━━━━━━━━━━━━━━━━━━━━━━━━━━━━\u001b[0m \u001b[32m235.6/235.6 kB\u001b[0m \u001b[31m4.0 MB/s\u001b[0m eta \u001b[36m0:00:00\u001b[0m\n",
            "\u001b[?25hRequirement already satisfied: numpy>=1.17.3 in /usr/local/lib/python3.10/dist-packages (from imbalanced-learn) (1.23.5)\n",
            "Requirement already satisfied: scipy>=1.5.0 in /usr/local/lib/python3.10/dist-packages (from imbalanced-learn) (1.11.3)\n",
            "Requirement already satisfied: scikit-learn>=1.0.2 in /usr/local/lib/python3.10/dist-packages (from imbalanced-learn) (1.2.2)\n",
            "Requirement already satisfied: joblib>=1.1.1 in /usr/local/lib/python3.10/dist-packages (from imbalanced-learn) (1.3.2)\n",
            "Requirement already satisfied: threadpoolctl>=2.0.0 in /usr/local/lib/python3.10/dist-packages (from imbalanced-learn) (3.2.0)\n",
            "Installing collected packages: imbalanced-learn\n",
            "  Attempting uninstall: imbalanced-learn\n",
            "    Found existing installation: imbalanced-learn 0.10.1\n",
            "    Uninstalling imbalanced-learn-0.10.1:\n",
            "      Successfully uninstalled imbalanced-learn-0.10.1\n",
            "Successfully installed imbalanced-learn-0.11.0\n"
          ]
        }
      ],
      "source": [
        "%matplotlib inline\n",
        "!pip install -U imbalanced-learn\n",
        "from imblearn.under_sampling import RandomUnderSampler\n",
        "\n",
        "import matplotlib.pyplot as plt\n",
        "import seaborn as sns\n",
        "\n",
        "import numpy as np\n",
        "import pandas as pd\n",
        "\n",
        "from sklearn.model_selection import train_test_split\n",
        "from sklearn.linear_model import LogisticRegression\n",
        "from sklearn.decomposition import TruncatedSVD\n",
        "\n",
        "from sklearn import metrics\n",
        "from sklearn.preprocessing import LabelEncoder\n",
        "\n",
        "from IPython.display import display\n",
        "\n",
        "import tensorflow as tf\n",
        "\n",
        "from keras import utils\n",
        "from keras import callbacks\n",
        "from keras.models import Sequential\n",
        "from keras import Model\n",
        "from keras.layers import Dense, Activation, InputLayer\n",
        "from keras import optimizers\n",
        "\n",
        "import zipfile\n",
        "import cv2\n",
        "\n",
        "from google.colab import files\n",
        "\n",
        "import tensorflow as tf\n",
        "import os\n",
        "import datetime"
      ]
    },
    {
      "cell_type": "code",
      "execution_count": 2,
      "metadata": {
        "id": "40wvSehmAIfD"
      },
      "outputs": [],
      "source": [
        "#@title Imports (RUN ME!) { display-mode: \"form\" }\n",
        "\n",
        "import tensorflow as tf\n",
        "import numpy as np\n",
        "import matplotlib.pyplot as plt\n",
        "from IPython import display\n",
        "%matplotlib inline\n",
        "from tensorflow.keras import layers, models\n",
        "\n",
        "from tensorflow.keras.datasets import cifar10\n",
        "from sklearn.model_selection import StratifiedShuffleSplit\n",
        "from tensorflow.keras import layers, regularizers\n",
        "from keras import callbacks\n",
        "\n",
        "plt.rcParams['figure.figsize'] = (15,15) # Configura tamanho das figuras"
      ]
    },
    {
      "cell_type": "markdown",
      "metadata": {
        "id": "rAS3vflosogJ"
      },
      "source": [
        "## Exploratória dos dados"
      ]
    },
    {
      "cell_type": "code",
      "execution_count": 3,
      "metadata": {
        "colab": {
          "base_uri": "https://localhost:8080/"
        },
        "id": "MUWQHM2Cs5S9",
        "outputId": "1096e87a-5fc2-401d-bd9b-8a7e7573c69f"
      },
      "outputs": [
        {
          "output_type": "stream",
          "name": "stdout",
          "text": [
            "Mounted at /content/drive\n"
          ]
        }
      ],
      "source": [
        "from google.colab import drive\n",
        "drive.mount('/content/drive')"
      ]
    },
    {
      "cell_type": "code",
      "execution_count": 4,
      "metadata": {
        "colab": {
          "base_uri": "https://localhost:8080/",
          "height": 423
        },
        "id": "jr_d1CqiAdIp",
        "outputId": "bbd08b9a-020c-49ed-b889-38c5cf64fbc9"
      },
      "outputs": [
        {
          "output_type": "execute_result",
          "data": {
            "text/plain": [
              "       age                               filename database\n",
              "0        8   8_0_4_20170103200427437.jpg.chip.jpg  UTKFace\n",
              "1       27  27_0_2_20170105161443219.jpg.chip.jpg  UTKFace\n",
              "2       59  59_1_0_20170110131916835.jpg.chip.jpg  UTKFace\n",
              "3       53  53_0_0_20170113184910088.jpg.chip.jpg  UTKFace\n",
              "4       48  48_1_3_20170109141805054.jpg.chip.jpg  UTKFace\n",
              "...    ...                                    ...      ...\n",
              "15167   30  30_0_0_20170117134548302.jpg.chip.jpg  UTKFace\n",
              "15168   28  28_1_2_20170116164637415.jpg.chip.jpg  UTKFace\n",
              "15169   63  63_0_0_20170105180928702.jpg.chip.jpg  UTKFace\n",
              "15170   13  13_0_0_20170104012531409.jpg.chip.jpg  UTKFace\n",
              "15171   18  18_0_1_20170113135429329.jpg.chip.jpg  UTKFace\n",
              "\n",
              "[15172 rows x 3 columns]"
            ],
            "text/html": [
              "\n",
              "  <div id=\"df-ba5579fb-143b-4592-98bf-dcb4cc3f994f\" class=\"colab-df-container\">\n",
              "    <div>\n",
              "<style scoped>\n",
              "    .dataframe tbody tr th:only-of-type {\n",
              "        vertical-align: middle;\n",
              "    }\n",
              "\n",
              "    .dataframe tbody tr th {\n",
              "        vertical-align: top;\n",
              "    }\n",
              "\n",
              "    .dataframe thead th {\n",
              "        text-align: right;\n",
              "    }\n",
              "</style>\n",
              "<table border=\"1\" class=\"dataframe\">\n",
              "  <thead>\n",
              "    <tr style=\"text-align: right;\">\n",
              "      <th></th>\n",
              "      <th>age</th>\n",
              "      <th>filename</th>\n",
              "      <th>database</th>\n",
              "    </tr>\n",
              "  </thead>\n",
              "  <tbody>\n",
              "    <tr>\n",
              "      <th>0</th>\n",
              "      <td>8</td>\n",
              "      <td>8_0_4_20170103200427437.jpg.chip.jpg</td>\n",
              "      <td>UTKFace</td>\n",
              "    </tr>\n",
              "    <tr>\n",
              "      <th>1</th>\n",
              "      <td>27</td>\n",
              "      <td>27_0_2_20170105161443219.jpg.chip.jpg</td>\n",
              "      <td>UTKFace</td>\n",
              "    </tr>\n",
              "    <tr>\n",
              "      <th>2</th>\n",
              "      <td>59</td>\n",
              "      <td>59_1_0_20170110131916835.jpg.chip.jpg</td>\n",
              "      <td>UTKFace</td>\n",
              "    </tr>\n",
              "    <tr>\n",
              "      <th>3</th>\n",
              "      <td>53</td>\n",
              "      <td>53_0_0_20170113184910088.jpg.chip.jpg</td>\n",
              "      <td>UTKFace</td>\n",
              "    </tr>\n",
              "    <tr>\n",
              "      <th>4</th>\n",
              "      <td>48</td>\n",
              "      <td>48_1_3_20170109141805054.jpg.chip.jpg</td>\n",
              "      <td>UTKFace</td>\n",
              "    </tr>\n",
              "    <tr>\n",
              "      <th>...</th>\n",
              "      <td>...</td>\n",
              "      <td>...</td>\n",
              "      <td>...</td>\n",
              "    </tr>\n",
              "    <tr>\n",
              "      <th>15167</th>\n",
              "      <td>30</td>\n",
              "      <td>30_0_0_20170117134548302.jpg.chip.jpg</td>\n",
              "      <td>UTKFace</td>\n",
              "    </tr>\n",
              "    <tr>\n",
              "      <th>15168</th>\n",
              "      <td>28</td>\n",
              "      <td>28_1_2_20170116164637415.jpg.chip.jpg</td>\n",
              "      <td>UTKFace</td>\n",
              "    </tr>\n",
              "    <tr>\n",
              "      <th>15169</th>\n",
              "      <td>63</td>\n",
              "      <td>63_0_0_20170105180928702.jpg.chip.jpg</td>\n",
              "      <td>UTKFace</td>\n",
              "    </tr>\n",
              "    <tr>\n",
              "      <th>15170</th>\n",
              "      <td>13</td>\n",
              "      <td>13_0_0_20170104012531409.jpg.chip.jpg</td>\n",
              "      <td>UTKFace</td>\n",
              "    </tr>\n",
              "    <tr>\n",
              "      <th>15171</th>\n",
              "      <td>18</td>\n",
              "      <td>18_0_1_20170113135429329.jpg.chip.jpg</td>\n",
              "      <td>UTKFace</td>\n",
              "    </tr>\n",
              "  </tbody>\n",
              "</table>\n",
              "<p>15172 rows × 3 columns</p>\n",
              "</div>\n",
              "    <div class=\"colab-df-buttons\">\n",
              "\n",
              "  <div class=\"colab-df-container\">\n",
              "    <button class=\"colab-df-convert\" onclick=\"convertToInteractive('df-ba5579fb-143b-4592-98bf-dcb4cc3f994f')\"\n",
              "            title=\"Convert this dataframe to an interactive table.\"\n",
              "            style=\"display:none;\">\n",
              "\n",
              "  <svg xmlns=\"http://www.w3.org/2000/svg\" height=\"24px\" viewBox=\"0 -960 960 960\">\n",
              "    <path d=\"M120-120v-720h720v720H120Zm60-500h600v-160H180v160Zm220 220h160v-160H400v160Zm0 220h160v-160H400v160ZM180-400h160v-160H180v160Zm440 0h160v-160H620v160ZM180-180h160v-160H180v160Zm440 0h160v-160H620v160Z\"/>\n",
              "  </svg>\n",
              "    </button>\n",
              "\n",
              "  <style>\n",
              "    .colab-df-container {\n",
              "      display:flex;\n",
              "      gap: 12px;\n",
              "    }\n",
              "\n",
              "    .colab-df-convert {\n",
              "      background-color: #E8F0FE;\n",
              "      border: none;\n",
              "      border-radius: 50%;\n",
              "      cursor: pointer;\n",
              "      display: none;\n",
              "      fill: #1967D2;\n",
              "      height: 32px;\n",
              "      padding: 0 0 0 0;\n",
              "      width: 32px;\n",
              "    }\n",
              "\n",
              "    .colab-df-convert:hover {\n",
              "      background-color: #E2EBFA;\n",
              "      box-shadow: 0px 1px 2px rgba(60, 64, 67, 0.3), 0px 1px 3px 1px rgba(60, 64, 67, 0.15);\n",
              "      fill: #174EA6;\n",
              "    }\n",
              "\n",
              "    .colab-df-buttons div {\n",
              "      margin-bottom: 4px;\n",
              "    }\n",
              "\n",
              "    [theme=dark] .colab-df-convert {\n",
              "      background-color: #3B4455;\n",
              "      fill: #D2E3FC;\n",
              "    }\n",
              "\n",
              "    [theme=dark] .colab-df-convert:hover {\n",
              "      background-color: #434B5C;\n",
              "      box-shadow: 0px 1px 3px 1px rgba(0, 0, 0, 0.15);\n",
              "      filter: drop-shadow(0px 1px 2px rgba(0, 0, 0, 0.3));\n",
              "      fill: #FFFFFF;\n",
              "    }\n",
              "  </style>\n",
              "\n",
              "    <script>\n",
              "      const buttonEl =\n",
              "        document.querySelector('#df-ba5579fb-143b-4592-98bf-dcb4cc3f994f button.colab-df-convert');\n",
              "      buttonEl.style.display =\n",
              "        google.colab.kernel.accessAllowed ? 'block' : 'none';\n",
              "\n",
              "      async function convertToInteractive(key) {\n",
              "        const element = document.querySelector('#df-ba5579fb-143b-4592-98bf-dcb4cc3f994f');\n",
              "        const dataTable =\n",
              "          await google.colab.kernel.invokeFunction('convertToInteractive',\n",
              "                                                    [key], {});\n",
              "        if (!dataTable) return;\n",
              "\n",
              "        const docLinkHtml = 'Like what you see? Visit the ' +\n",
              "          '<a target=\"_blank\" href=https://colab.research.google.com/notebooks/data_table.ipynb>data table notebook</a>'\n",
              "          + ' to learn more about interactive tables.';\n",
              "        element.innerHTML = '';\n",
              "        dataTable['output_type'] = 'display_data';\n",
              "        await google.colab.output.renderOutput(dataTable, element);\n",
              "        const docLink = document.createElement('div');\n",
              "        docLink.innerHTML = docLinkHtml;\n",
              "        element.appendChild(docLink);\n",
              "      }\n",
              "    </script>\n",
              "  </div>\n",
              "\n",
              "\n",
              "<div id=\"df-381c624a-32c9-4ad4-a4c3-23d283df0609\">\n",
              "  <button class=\"colab-df-quickchart\" onclick=\"quickchart('df-381c624a-32c9-4ad4-a4c3-23d283df0609')\"\n",
              "            title=\"Suggest charts\"\n",
              "            style=\"display:none;\">\n",
              "\n",
              "<svg xmlns=\"http://www.w3.org/2000/svg\" height=\"24px\"viewBox=\"0 0 24 24\"\n",
              "     width=\"24px\">\n",
              "    <g>\n",
              "        <path d=\"M19 3H5c-1.1 0-2 .9-2 2v14c0 1.1.9 2 2 2h14c1.1 0 2-.9 2-2V5c0-1.1-.9-2-2-2zM9 17H7v-7h2v7zm4 0h-2V7h2v10zm4 0h-2v-4h2v4z\"/>\n",
              "    </g>\n",
              "</svg>\n",
              "  </button>\n",
              "\n",
              "<style>\n",
              "  .colab-df-quickchart {\n",
              "      --bg-color: #E8F0FE;\n",
              "      --fill-color: #1967D2;\n",
              "      --hover-bg-color: #E2EBFA;\n",
              "      --hover-fill-color: #174EA6;\n",
              "      --disabled-fill-color: #AAA;\n",
              "      --disabled-bg-color: #DDD;\n",
              "  }\n",
              "\n",
              "  [theme=dark] .colab-df-quickchart {\n",
              "      --bg-color: #3B4455;\n",
              "      --fill-color: #D2E3FC;\n",
              "      --hover-bg-color: #434B5C;\n",
              "      --hover-fill-color: #FFFFFF;\n",
              "      --disabled-bg-color: #3B4455;\n",
              "      --disabled-fill-color: #666;\n",
              "  }\n",
              "\n",
              "  .colab-df-quickchart {\n",
              "    background-color: var(--bg-color);\n",
              "    border: none;\n",
              "    border-radius: 50%;\n",
              "    cursor: pointer;\n",
              "    display: none;\n",
              "    fill: var(--fill-color);\n",
              "    height: 32px;\n",
              "    padding: 0;\n",
              "    width: 32px;\n",
              "  }\n",
              "\n",
              "  .colab-df-quickchart:hover {\n",
              "    background-color: var(--hover-bg-color);\n",
              "    box-shadow: 0 1px 2px rgba(60, 64, 67, 0.3), 0 1px 3px 1px rgba(60, 64, 67, 0.15);\n",
              "    fill: var(--button-hover-fill-color);\n",
              "  }\n",
              "\n",
              "  .colab-df-quickchart-complete:disabled,\n",
              "  .colab-df-quickchart-complete:disabled:hover {\n",
              "    background-color: var(--disabled-bg-color);\n",
              "    fill: var(--disabled-fill-color);\n",
              "    box-shadow: none;\n",
              "  }\n",
              "\n",
              "  .colab-df-spinner {\n",
              "    border: 2px solid var(--fill-color);\n",
              "    border-color: transparent;\n",
              "    border-bottom-color: var(--fill-color);\n",
              "    animation:\n",
              "      spin 1s steps(1) infinite;\n",
              "  }\n",
              "\n",
              "  @keyframes spin {\n",
              "    0% {\n",
              "      border-color: transparent;\n",
              "      border-bottom-color: var(--fill-color);\n",
              "      border-left-color: var(--fill-color);\n",
              "    }\n",
              "    20% {\n",
              "      border-color: transparent;\n",
              "      border-left-color: var(--fill-color);\n",
              "      border-top-color: var(--fill-color);\n",
              "    }\n",
              "    30% {\n",
              "      border-color: transparent;\n",
              "      border-left-color: var(--fill-color);\n",
              "      border-top-color: var(--fill-color);\n",
              "      border-right-color: var(--fill-color);\n",
              "    }\n",
              "    40% {\n",
              "      border-color: transparent;\n",
              "      border-right-color: var(--fill-color);\n",
              "      border-top-color: var(--fill-color);\n",
              "    }\n",
              "    60% {\n",
              "      border-color: transparent;\n",
              "      border-right-color: var(--fill-color);\n",
              "    }\n",
              "    80% {\n",
              "      border-color: transparent;\n",
              "      border-right-color: var(--fill-color);\n",
              "      border-bottom-color: var(--fill-color);\n",
              "    }\n",
              "    90% {\n",
              "      border-color: transparent;\n",
              "      border-bottom-color: var(--fill-color);\n",
              "    }\n",
              "  }\n",
              "</style>\n",
              "\n",
              "  <script>\n",
              "    async function quickchart(key) {\n",
              "      const quickchartButtonEl =\n",
              "        document.querySelector('#' + key + ' button');\n",
              "      quickchartButtonEl.disabled = true;  // To prevent multiple clicks.\n",
              "      quickchartButtonEl.classList.add('colab-df-spinner');\n",
              "      try {\n",
              "        const charts = await google.colab.kernel.invokeFunction(\n",
              "            'suggestCharts', [key], {});\n",
              "      } catch (error) {\n",
              "        console.error('Error during call to suggestCharts:', error);\n",
              "      }\n",
              "      quickchartButtonEl.classList.remove('colab-df-spinner');\n",
              "      quickchartButtonEl.classList.add('colab-df-quickchart-complete');\n",
              "    }\n",
              "    (() => {\n",
              "      let quickchartButtonEl =\n",
              "        document.querySelector('#df-381c624a-32c9-4ad4-a4c3-23d283df0609 button');\n",
              "      quickchartButtonEl.style.display =\n",
              "        google.colab.kernel.accessAllowed ? 'block' : 'none';\n",
              "    })();\n",
              "  </script>\n",
              "</div>\n",
              "    </div>\n",
              "  </div>\n"
            ]
          },
          "metadata": {},
          "execution_count": 4
        }
      ],
      "source": [
        "df = pd.read_csv('/content/drive/MyDrive/trabalho_final/train-utkface.csv')\n",
        "df"
      ]
    },
    {
      "cell_type": "code",
      "execution_count": 5,
      "metadata": {
        "id": "a_Hf2CFEBpNa"
      },
      "outputs": [],
      "source": [
        "def frequencies(dataset, column):\n",
        "    labels, counts = np.unique(dataset[column], return_counts=True)\n",
        "    p = np.argsort(counts)[::-1]\n",
        "    labels, counts = labels[p], counts[p]\n",
        "\n",
        "    (sns\n",
        "     .barplot(x=labels, y=counts)\n",
        "     .set_title(f'Occurrences for The {len(labels)} Classes in {column}'))\n",
        "    plt.xticks(rotation=90)\n",
        "\n",
        "    return labels, counts"
      ]
    },
    {
      "cell_type": "code",
      "execution_count": 6,
      "metadata": {
        "colab": {
          "base_uri": "https://localhost:8080/",
          "height": 1000
        },
        "id": "5XVYzf98B6wZ",
        "outputId": "f765258d-d2d6-47d6-caf9-e9ea21b72e87"
      },
      "outputs": [
        {
          "output_type": "display_data",
          "data": {
            "text/plain": [
              "<Figure size 1500x1500 with 1 Axes>"
            ],
            "image/png": "[encoded data removed]"
          },
          "metadata": {}
        }
      ],
      "source": [
        "labels, counamts = frequencies(df, 'age')"
      ]
    },
    {
      "cell_type": "code",
      "execution_count": 7,
      "metadata": {
        "id": "UdFes4tzGZyG"
      },
      "outputs": [],
      "source": [
        "# Considerando as faixas etarias da população brasileira:\n",
        "# jovens: 0-19anos\n",
        "# adultos: 20-59anos\n",
        "# idosos: 60 ou mais\n",
        "\n",
        "#ref: https://educador.brasilescola.uol.com.br/estrategias-ensino/faixa-etaria-populacao-brasileira.htm#:~:text=Jovens%20%E2%80%93%20do%20nascimento%20at%C3%A9%20aos,anos%20de%20idade%20ou%20mais."
      ]
    },
    {
      "cell_type": "code",
      "execution_count": 8,
      "metadata": {
        "id": "9HOCu4dwHs2U"
      },
      "outputs": [],
      "source": [
        "# criar a nova coluna age_group\n",
        "df['age_group'] = pd.cut(df['age'], bins=[-1, 19, 59, 150], labels=['0-19', '20-59', '60+'])"
      ]
    },
    {
      "cell_type": "code",
      "execution_count": 11,
      "metadata": {
        "colab": {
          "base_uri": "https://localhost:8080/",
          "height": 1000
        },
        "id": "XSrBvaoCJcW7",
        "outputId": "10e48ae0-0ecc-4b2d-f0fb-35264cdc15b8"
      },
      "outputs": [
        {
          "output_type": "display_data",
          "data": {
            "text/plain": [
              "<Figure size 1500x1500 with 1 Axes>"
            ],
            "image/png": "[encoded data removed]"
          },
          "metadata": {}
        }
      ],
      "source": [
        "labels, counts = frequencies(df, 'age_group')\n",
        "plt.rcParams['font.size'] = 18\n",
        "plt.title('Histograma por classes', fontsize=24)\n",
        "#plt.xlabel('Eixo X', fontsize=18)\n",
        "\n",
        "\n",
        "plt.legend(['Jovens: 0-19 anos', 'Adultos: 20-59 anos', 'Idosos: 60 ou mais'])\n",
        "\n",
        "plt.show()\n",
        "# jovens: 0-19anos\n",
        "# adultos: 20-59anos\n",
        "# idosos: 60 ou mais"
      ]
    },
    {
      "cell_type": "code",
      "execution_count": null,
      "metadata": {
        "id": "VbBd38-qJ6Lg"
      },
      "outputs": [],
      "source": [
        "#oversampling\n",
        "#undersampling\n",
        "# escolher o balanceamento depois\n",
        "'''\n",
        "X = df.drop('age_group', axis=1)\n",
        "y = df['age_group'] # classes\n",
        "\n",
        "undersample_strategy = {'0-19': 4000} #amostras\n",
        "\n",
        "rus = RandomUnderSampler(sampling_strategy=undersample_strategy)\n",
        "X_res, y_res = rus.fit_resample(X, y)'''"
      ]
    },
    {
      "cell_type": "markdown",
      "source": [
        "## Carregamento dos dados"
      ],
      "metadata": {
        "id": "JPzcvNG3x3yO"
      }
    },
    {
      "cell_type": "markdown",
      "source": [
        "Base de dados completa"
      ],
      "metadata": {
        "id": "N0sSKapqMuka"
      }
    },
    {
      "cell_type": "code",
      "source": [
        "#https://drive.google.com/file/d/1XiCC1ooyvm_qkMIbk1kplgAwPEOQ-EfR/view?usp=sharing\n",
        "\n",
        "!gdown 1XiCC1ooyvm_qkMIbk1kplgAwPEOQ-EfR"
      ],
      "metadata": {
        "id": "4_A1_ZmamHxO"
      },
      "execution_count": null,
      "outputs": []
    },
    {
      "cell_type": "code",
      "source": [
        "FILE='UTKFace.zip'"
      ],
      "metadata": {
        "id": "kiaoOa4ImbUx"
      },
      "execution_count": null,
      "outputs": []
    },
    {
      "cell_type": "code",
      "source": [
        "archive = zipfile.ZipFile(FILE, 'r')\n",
        "archive.extractall()"
      ],
      "metadata": {
        "id": "YJjWIWdYmcxq"
      },
      "execution_count": null,
      "outputs": []
    },
    {
      "cell_type": "code",
      "source": [
        "img_name=[]\n",
        "with zipfile.ZipFile(FILE, \"r\") as f:\n",
        "    for name in f.namelist():\n",
        "        img_name.append(name)"
      ],
      "metadata": {
        "id": "gpfGeUC0meN9"
      },
      "execution_count": null,
      "outputs": []
    },
    {
      "cell_type": "code",
      "source": [
        "Img_Size = 224\n",
        "ref = 'jpg'\n",
        "notref = 'met'"
      ],
      "metadata": {
        "id": "O23j4FG2mm9C"
      },
      "execution_count": null,
      "outputs": []
    },
    {
      "cell_type": "code",
      "source": [
        "X = []\n",
        "Y =[]\n",
        "n = len(img_name)\n",
        "i = 0\n",
        "for i in range(n):\n",
        "  name = img_name[i]\n",
        "  if(ref in name):\n",
        "    Y.append(name)\n",
        "    #X.append(cv2.imread(name,0))\n",
        "    X.append(cv2.imread(name))\n",
        "m = len(Y)\n",
        "print(n,m)"
      ],
      "metadata": {
        "id": "kWlrnYHLmpxO"
      },
      "execution_count": null,
      "outputs": []
    },
    {
      "cell_type": "code",
      "source": [
        "'''plt.figure(figsize=(10, 10))\n",
        "m = len(Y)\n",
        "for i in range(30):\n",
        "  ax = plt.subplot(5, 6, i + 1)\n",
        "  idx = np.random.randint(m)\n",
        "  RGB_img = cv2.cvtColor(X[idx], cv2.COLOR_BGR2RGB)\n",
        "  resized = cv2.resize(RGB_img, (Img_Size,Img_Size))\n",
        "  plt.imshow(resized)\n",
        "  plt.title(Y[idx])\n",
        "  plt.axis(\"off\")'''"
      ],
      "metadata": {
        "id": "OwtEIVxGmrgx"
      },
      "execution_count": null,
      "outputs": []
    },
    {
      "cell_type": "markdown",
      "source": [
        "# Dados de Treinamento"
      ],
      "metadata": {
        "id": "utcP4jvjzh4E"
      }
    },
    {
      "cell_type": "code",
      "source": [
        "#https://drive.google.com/file/d/1bh_xtlDjJxMabyOXSDaSj-jdYp-WX1tL/view?usp=sharing\n",
        "\n",
        "!gdown 1bh_xtlDjJxMabyOXSDaSj-jdYp-WX1tL\n"
      ],
      "metadata": {
        "id": "43EmdL1wnVSK"
      },
      "execution_count": null,
      "outputs": []
    },
    {
      "cell_type": "code",
      "source": [
        "df = pd.read_csv('train-utkface.csv')\n",
        "df.head()"
      ],
      "metadata": {
        "id": "truPENvaOaKM"
      },
      "execution_count": null,
      "outputs": []
    },
    {
      "cell_type": "code",
      "source": [
        "ref = 'jpg'\n",
        "notref = 'met'"
      ],
      "metadata": {
        "id": "-Qgfck2HObzz"
      },
      "execution_count": null,
      "outputs": []
    },
    {
      "cell_type": "code",
      "source": [
        "X= [] #imagens de treino size 224\n",
        "Y =[] #idades\n",
        "n = len(img_name)\n",
        "k = 0\n",
        "for name in df.filename:\n",
        "  if(ref in name):\n",
        "    try:\n",
        "      idade = df['age'].iloc[k]\n",
        "      Y.append(idade)\n",
        "      #X.append(cv2.imread(name,0))\n",
        "      img = cv2.imread(name)\n",
        "      resized_img =cv2.resize(img, (Img_Size,Img_Size))\n",
        "      X.append(resized_img)\n",
        "      X.append(img)\n",
        "    except:\n",
        "      pass\n",
        "    k = k + 1\n",
        "m = len(Y)\n",
        "print(n,m)"
      ],
      "metadata": {
        "id": "ONA1g256Oih0"
      },
      "execution_count": null,
      "outputs": []
    },
    {
      "cell_type": "code",
      "source": [
        "df"
      ],
      "metadata": {
        "id": "1gwao-NMOpUs"
      },
      "execution_count": null,
      "outputs": []
    },
    {
      "cell_type": "code",
      "source": [
        "RGB_img = cv2.cvtColor(X[0], cv2.COLOR_BGR2RGB)\n",
        "resized = cv2.resize(RGB_img, (Img_Size,Img_Size))\n",
        "plt.imshow(resized)\n",
        "plt.title(Y[0])"
      ],
      "metadata": {
        "id": "X9WhWcG-Os34"
      },
      "execution_count": null,
      "outputs": []
    },
    {
      "cell_type": "code",
      "source": [
        "  idx = np.random.randint(m)\n",
        "  RGB_img = cv2.cvtColor(X[idx], cv2.COLOR_BGR2RGB)\n",
        "  resized = cv2.resize(RGB_img, (Img_Size,Img_Size))"
      ],
      "metadata": {
        "id": "RFHeUWIePC-T"
      },
      "execution_count": null,
      "outputs": []
    },
    {
      "cell_type": "markdown",
      "source": [
        "## CNN modelo (baseline)"
      ],
      "metadata": {
        "id": "uwnCsqW2RhL6"
      }
    },
    {
      "cell_type": "code",
      "source": [],
      "metadata": {
        "id": "qK0OHIyfPc5e"
      },
      "execution_count": null,
      "outputs": []
    }
  ],
  "metadata": {
    "colab": {
      "provenance": [],
      "authorship_tag": "ABX9TyPLUZvU/YKEhUaDlieSbREq",
      "include_colab_link": true
    },
    "kernelspec": {
      "display_name": "Python 3",
      "name": "python3"
    },
    "language_info": {
      "name": "python"
    }
  },
  "nbformat": 4,
  "nbformat_minor": 0
}