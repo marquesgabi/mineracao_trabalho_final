{
 "cells": [
  {
   "cell_type": "code",
   "execution_count": null,
   "id": "bc3f123b",
   "metadata": {},
   "outputs": [],
   "source": []
  },
  {
   "cell_type": "code",
   "execution_count": 1,
   "id": "53b05c17",
   "metadata": {},
   "outputs": [],
   "source": [
    "y_val = [0,8,10,12,14,20,28,29,30,33,34,35,40,40,42,50,55,80,90]\n",
    "y_predic = [80,8,12,12,14,25,88,29,50,33,34,35,78,40,42,50,55,80,90]"
   ]
  },
  {
   "cell_type": "code",
   "execution_count": 3,
   "id": "4c0768db",
   "metadata": {},
   "outputs": [],
   "source": [
    "def idade_classe(y):\n",
    "    y_classe = []\n",
    "    for idade in y:\n",
    "        if idade <= 10:\n",
    "            y_classe.append(0)\n",
    "        elif idade <= 15:\n",
    "            y_classe.append(1)\n",
    "        elif idade <= 59:\n",
    "            y_classe.append(2)\n",
    "        else:\n",
    "            y_classe.append(3)\n",
    "        \n",
    "            \n",
    "    return y_classe"
   ]
  },
  {
   "cell_type": "code",
   "execution_count": 4,
   "id": "30e65dbf",
   "metadata": {},
   "outputs": [],
   "source": [
    "y_classe = idade_classe(y_val)\n",
    "y_classe_pred = idade_classe(y_predic)"
   ]
  },
  {
   "cell_type": "code",
   "execution_count": 5,
   "id": "f9b66fb7",
   "metadata": {},
   "outputs": [
    {
     "name": "stdout",
     "output_type": "stream",
     "text": [
      "idade: 0 classe: 0\n",
      "idade: 8 classe: 0\n",
      "idade: 10 classe: 0\n",
      "idade: 12 classe: 1\n",
      "idade: 14 classe: 1\n",
      "idade: 20 classe: 2\n",
      "idade: 28 classe: 2\n",
      "idade: 29 classe: 2\n",
      "idade: 30 classe: 2\n",
      "idade: 33 classe: 2\n",
      "idade: 34 classe: 2\n",
      "idade: 35 classe: 2\n",
      "idade: 40 classe: 2\n",
      "idade: 40 classe: 2\n",
      "idade: 42 classe: 2\n",
      "idade: 50 classe: 2\n",
      "idade: 55 classe: 2\n",
      "idade: 80 classe: 3\n",
      "idade: 90 classe: 3\n"
     ]
    }
   ],
   "source": [
    "num = len(y_classe)\n",
    "for i in range(num):\n",
    "    print('idade:',y_val[i],'classe:',y_classe[i])"
   ]
  },
  {
   "cell_type": "code",
   "execution_count": null,
   "id": "22e74bd2",
   "metadata": {},
   "outputs": [],
   "source": []
  }
 ],
 "metadata": {
  "kernelspec": {
   "display_name": "Python 3 (ipykernel)",
   "language": "python",
   "name": "python3"
  },
  "language_info": {
   "codemirror_mode": {
    "name": "ipython",
    "version": 3
   },
   "file_extension": ".py",
   "mimetype": "text/x-python",
   "name": "python",
   "nbconvert_exporter": "python",
   "pygments_lexer": "ipython3",
   "version": "3.9.18"
  }
 },
 "nbformat": 4,
 "nbformat_minor": 5
}
